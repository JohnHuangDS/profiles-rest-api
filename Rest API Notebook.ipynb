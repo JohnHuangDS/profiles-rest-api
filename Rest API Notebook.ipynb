{
 "cells": [
  {
   "cell_type": "markdown",
   "metadata": {},
   "source": [
    "# Section 1: Course Introduction"
   ]
  },
  {
   "cell_type": "markdown",
   "metadata": {},
   "source": [
    "## 1.1 Course Structure"
   ]
  },
  {
   "cell_type": "markdown",
   "metadata": {},
   "source": [
    "## 1.2 Technologies\n",
    "Tech Stack : git, python django, django rest framework virtualbox, modheader(chrome extension), vagrant, atom"
   ]
  },
  {
   "cell_type": "markdown",
   "metadata": {},
   "source": [
    "### 1. Development Server  \n",
    "Vagrant helps us create a virtual development machine.  \n",
    "Running code in a virtual dev machine has many benefits:  \n",
    "  * easy to share the server with others  \n",
    "  * exact same version of all requirements  \n",
    "  * run exactly the same software as a real production server  \n",
    "  * easily create and destroy server as needed  \n",
    "  \n",
    "### 2. Application code  \n",
    "Layer #1 Programing Language - Python\n",
    "   * write the logic for our application\n",
    "\n",
    "Layer #2 Django Framework\n",
    "   * web framework for Python\n",
    "   * pre-defined set of code to perform common actions\n",
    "   * stardardises applications\n",
    " \n",
    "Layer #3 Django REST framework\n",
    "   * provides set of features for making standard REST API's\n"
   ]
  },
  {
   "cell_type": "markdown",
   "metadata": {},
   "source": [
    "### 3. Vagrant vs Docker"
   ]
  },
  {
   "cell_type": "markdown",
   "metadata": {},
   "source": [
    "They both use virtualization technology to isolate application from local machine  \n",
    "  \n",
    "Docker has a steeper learning curve than Vagrant, has streamlined workflow, and requires supported OS.  \n",
    "Used for Production. A docker file creates a docker image that can be ran on local or server machines.  \n",
    "  \n",
    "Vagrant allows you to manage VDE's. It uses a hypervisor (ie. Virtual Vox) to create a server.  \n",
    "Contains streamlined but complete version of Linux OS. Not used for production. "
   ]
  },
  {
   "cell_type": "markdown",
   "metadata": {},
   "source": [
    "### 4. How to get the most out of this course\n",
    "### 5. How to get help"
   ]
  },
  {
   "cell_type": "markdown",
   "metadata": {},
   "source": [
    "# Section 2: Setting up your project"
   ]
  },
  {
   "cell_type": "markdown",
   "metadata": {},
   "source": [
    "### 6. Windows: Installing technologies\n",
    "### 7. macOS: Installing technologies\n",
    "cheatsheet:  \n",
    "https://github.com/LondonAppDev/build-a-backend-api-python-drf-beginner-cheat-sheet/blob/master/README.md"
   ]
  },
  {
   "cell_type": "markdown",
   "metadata": {},
   "source": [
    "# Section 3: Creating a workspace"
   ]
  },
  {
   "cell_type": "markdown",
   "metadata": {},
   "source": [
    "### 8. Creating a workspace"
   ]
  },
  {
   "cell_type": "markdown",
   "metadata": {},
   "source": [
    "### 9. Creating a Git Project\n"
   ]
  },
  {
   "cell_type": "code",
   "execution_count": null,
   "metadata": {},
   "outputs": [],
   "source": [
    "#Git Commands\n",
    "#Initialize git in a folder  \n",
    "git init  \n",
    "git add .  \n",
    "git commit -am \"Commit Message\"  \n",
    "\n",
    "#create:  \n",
    "README.md \n",
    "\n",
    "#.gitignore  \n",
    "https://gist.github.com/LondonAppDev/dd166e24f69db4404102161df02a63ff\n",
    "\n",
    "#LICENSE   \n",
    "https://choosealicense.com/licenses/mit/"
   ]
  },
  {
   "cell_type": "markdown",
   "metadata": {},
   "source": [
    "### 10. Creating a Git Project"
   ]
  },
  {
   "cell_type": "code",
   "execution_count": null,
   "metadata": {},
   "outputs": [],
   "source": [
    "# Go to ssh folder\n",
    "ls ~/.ssh\n",
    "\n",
    "# Create a public/private rsa key with 4096 bytes\n",
    "ssh-keygen -t rsa -b 4096 -C \"huangjohn92@gmail.com\"\n",
    "\n",
    "# Go to github.com --> Settings --> SSH and GPG Keys\n",
    "cat ~/.ssh/id_rsa.pub\n",
    "\n",
    "# Copy and Paste (ssh till .com) into SSH keys/add new\n",
    "\n",
    "# Create new repository on github\n",
    "git remote add origin git@github.com:...\n",
    "git push origin master"
   ]
  },
  {
   "cell_type": "markdown",
   "metadata": {},
   "source": [
    "# Section 4: Creating a developement server"
   ]
  },
  {
   "cell_type": "markdown",
   "metadata": {},
   "source": [
    "### 11. Creating a Vagrant File"
   ]
  },
  {
   "cell_type": "code",
   "execution_count": null,
   "metadata": {},
   "outputs": [],
   "source": [
    "#create new vagrant image on terminal inside working folder\n",
    "vagrant init ubuntu/bionic64"
   ]
  },
  {
   "cell_type": "markdown",
   "metadata": {},
   "source": [
    "### 12. Configuring our Vagrant box    "
   ]
  },
  {
   "cell_type": "code",
   "execution_count": null,
   "metadata": {},
   "outputs": [],
   "source": [
    "# replace Vagrantfile contents\n",
    "https://gist.github.com/LondonAppDev/199eef145a21587ea866b69d40d28682\n",
    "\n",
    "# -*- mode: ruby -*-\n",
    "# vi: set ft=ruby :\n",
    "\n",
    "# All Vagrant configuration is done below. The \"2\" in Vagrant.configure\n",
    "# configures the configuration version (we support older styles for\n",
    "# backwards compatibility). Please don't change it unless you know what\n",
    "# you're doing.\n",
    "Vagrant.configure(\"2\") do |config|\n",
    " # The most common configuration options are documented and commented below.\n",
    " # For a complete reference, please see the online documentation at\n",
    " # https://docs.vagrantup.com.\n",
    "\n",
    " # Every Vagrant development environment requires a box. You can search for\n",
    " # boxes at https://vagrantcloud.com/search.\n",
    " config.vm.box = \"ubuntu/bionic64\"\n",
    " config.vm.box_version = \"~> 20191107.0.0\"\n",
    "\n",
    " config.vm.network \"forwarded_port\", guest: 8000, host: 8000\n",
    "\n",
    " config.vm.provision \"shell\", inline: <<-SHELL\n",
    "   systemctl disable apt-daily.service\n",
    "   systemctl disable apt-daily.timer\n",
    " \n",
    "   sudo apt-get update\n",
    "   sudo apt-get install -y python3-venv zip\n",
    "   touch /home/vagrant/.bash_aliases\n",
    "   if ! grep -q PYTHON_ALIAS_ADDED /home/vagrant/.bash_aliases; then\n",
    "     echo \"# PYTHON_ALIAS_ADDED\" >> /home/vagrant/.bash_aliases\n",
    "     echo \"alias python='python3'\" >> /home/vagrant/.bash_aliases\n",
    "   fi\n",
    " SHELL\n",
    "end"
   ]
  },
  {
   "cell_type": "markdown",
   "metadata": {},
   "source": [
    "### 13. Running and connecting to our dev server"
   ]
  },
  {
   "cell_type": "code",
   "execution_count": null,
   "metadata": {},
   "outputs": [],
   "source": [
    "# Load vagrant file and use Virtual box to create a virtual machine\n",
    "vagrant up\n",
    "\n",
    "# Connect to vritual machine\n",
    "vagrant ssh"
   ]
  },
  {
   "cell_type": "markdown",
   "metadata": {},
   "source": [
    "### 14. Running a Hello World script"
   ]
  },
  {
   "cell_type": "code",
   "execution_count": null,
   "metadata": {},
   "outputs": [],
   "source": [
    "# go to vagrant directory which is synced to our working folder (wherever vagrantfile is)\n",
    "cd /vagrant\n",
    "\n",
    "touch hello_world.py\n",
    "print('Hello World')\n",
    "python hello_world.py"
   ]
  },
  {
   "cell_type": "markdown",
   "metadata": {},
   "source": [
    "# Section 5: Creating a Django App\n"
   ]
  },
  {
   "cell_type": "markdown",
   "metadata": {},
   "source": [
    "### 15. Create Python Virtual Environment"
   ]
  },
  {
   "cell_type": "code",
   "execution_count": null,
   "metadata": {},
   "outputs": [],
   "source": [
    "python -m venv ~/env\n",
    "source "
   ]
  },
  {
   "cell_type": "markdown",
   "metadata": {},
   "source": [
    "### 16. Create Python Virtual Environment"
   ]
  },
  {
   "cell_type": "code",
   "execution_count": null,
   "metadata": {},
   "outputs": [],
   "source": [
    "#requirements.txt\n",
    "django==2.2\n",
    "djangorestframework==3.9.2\n",
    "\n",
    "#activate virtual env\n",
    "source ~/env/bin/activate\n",
    "\n",
    "#to deactivate\n",
    "deactivate\n",
    "\n",
    "#install requirements (-r stands for requirements)\n",
    "pip install -r requirements.txt\n",
    "\n",
    "#pypi python package index\n",
    "https://pypi.org/"
   ]
  },
  {
   "cell_type": "markdown",
   "metadata": {},
   "source": [
    "### 17. Create a new Django project and app"
   ]
  },
  {
   "cell_type": "code",
   "execution_count": null,
   "metadata": {},
   "outputs": [],
   "source": [
    "#create a new django project\n",
    "# the . creates the project in the root of the working folder instead of creaing a new folder\n",
    "django-admin.py startproject profiles_project .\n",
    "\n",
    "#create new app\n",
    "python manage.py startapp profiles_api"
   ]
  },
  {
   "cell_type": "markdown",
   "metadata": {},
   "source": [
    "### 18. Enable our app in the Django settings file"
   ]
  },
  {
   "cell_type": "code",
   "execution_count": null,
   "metadata": {},
   "outputs": [],
   "source": [
    "'''\n",
    "in profiles_project\n",
    "settings.py\n",
    "'''\n",
    "\n",
    "INSTALLED_APPS = [...\n",
    "                 'rest_framework',\n",
    "                 'rest_framework.authtoken',\n",
    "                 'profiles_api',]"
   ]
  },
  {
   "cell_type": "markdown",
   "metadata": {},
   "source": [
    "### 19. Test and commit our changes"
   ]
  },
  {
   "cell_type": "code",
   "execution_count": null,
   "metadata": {},
   "outputs": [],
   "source": [
    "#to start server\n",
    "python manage.py runserver 0.0.0.0:8000\n",
    "    \n",
    "#commit changes\n",
    "git status\n",
    "git add .\n",
    "git commit -m \"Created django project and app\"\n",
    "git push origin"
   ]
  },
  {
   "cell_type": "markdown",
   "metadata": {},
   "source": [
    "# Section 6: Setup the Database\n"
   ]
  },
  {
   "cell_type": "markdown",
   "metadata": {},
   "source": [
    "### 20. What are Django Models?"
   ]
  },
  {
   "cell_type": "markdown",
   "metadata": {},
   "source": [
    "models describe the data we need for our app  \n",
    "django uses models to set up and configure database  \n",
    "each model maps to a specific table in our database  \n",
    "django handles the relationship for us, so we dont need to interact with the db directly  "
   ]
  },
  {
   "cell_type": "markdown",
   "metadata": {},
   "source": [
    "### 21. Create our user database model"
   ]
  },
  {
   "cell_type": "code",
   "execution_count": null,
   "metadata": {},
   "outputs": [],
   "source": [
    "#django comes with default user model thats used for the standard authentication system and admin\n",
    "https://docs.djangoproject.com/en/1.11/ref/models/fields/\n",
    "    \n",
    "#creating custom user model\n",
    "https://docs.djangoproject.com/en/1.11/topics/auth/customizing/#auth-custom-user\n",
    "    \n",
    "#models.py\n",
    "from django.db import models\n",
    "from django.contrib.auth.models import AbstractBaseUser\n",
    "from django.contrib.auth.models import PermissionsMixin\n",
    "\n",
    "\n",
    "class UserProfile(AbstractBaseUser, PermissionsMixin):\n",
    "    \"\"\"Database model for users in the system\"\"\"\n",
    "    email = models.EmailField(max_length=255, unique=True)\n",
    "    name = models.CharField(max_length=255)\n",
    "    is_active = models.BooleanField(default=True)\n",
    "    is_staff = models.BooleanField(default=False)\n",
    "\n",
    "    objects = UserProfileManager()\n",
    "\n",
    "    USERNAME_FIELD = 'email'\n",
    "    REQUIRED_FIELDS = ['name']\n",
    "\n",
    "    def get_full_name(self):\n",
    "        \"\"\"Retrieve full name for user\"\"\"\n",
    "        return self.name\n",
    "\n",
    "    def get_short_name(self):\n",
    "        \"\"\"Retrieve short name of user\"\"\"\n",
    "        return self.name\n",
    "\n",
    "    def __str__(self):\n",
    "        \"\"\"Return string representation of user\"\"\"\n",
    "        return self.email"
   ]
  },
  {
   "cell_type": "markdown",
   "metadata": {},
   "source": [
    "### 22. Add a user model manager"
   ]
  },
  {
   "cell_type": "code",
   "execution_count": null,
   "metadata": {},
   "outputs": [],
   "source": [
    "#add to models.py\n",
    "from django.contrib.auth.models import BaseUserManager\n",
    "...\n",
    "\n",
    "\n",
    "class UserProfileManager(BaseUserManager):\n",
    "    \"\"\"Manager for user profiles\"\"\"\n",
    "\n",
    "    def create_user(self, email, name, password=None):\n",
    "        \"\"\"Create a new user profile\"\"\"\n",
    "        if not email:\n",
    "            raise ValueError('Users must have an email address')\n",
    "\n",
    "        email = self.normalize_email(email)\n",
    "        user = self.model(email=email, name=name,)\n",
    "\n",
    "        user.set_password(password)\n",
    "        user.save(using=self._db)\n",
    "\n",
    "        return user\n",
    "\n",
    "    def create_superuser(self, email, name, password):\n",
    "        \"\"\"Create and save a new superuser with given details\"\"\"\n",
    "        user = self.create_user(email, name, password)\n",
    "\n",
    "        user.is_superuser = True\n",
    "        user.is_staff = True\n",
    "        user.save(using=self._db)\n",
    "\n",
    "        return user"
   ]
  },
  {
   "cell_type": "markdown",
   "metadata": {},
   "source": [
    "### 23. Set our custom user model"
   ]
  },
  {
   "cell_type": "code",
   "execution_count": 37,
   "metadata": {},
   "outputs": [],
   "source": [
    "#configure project to use this model\n",
    "#settings.py\n",
    "AUTH_USER_MODEL = 'profiles_api.UserProfile'"
   ]
  },
  {
   "cell_type": "markdown",
   "metadata": {},
   "source": [
    "### 24. Create migrations and sync DB"
   ]
  },
  {
   "cell_type": "code",
   "execution_count": null,
   "metadata": {},
   "outputs": [],
   "source": [
    "#create django migration file\n",
    "#django uses a migration file that stores all the steps required to make our database match our models\n",
    "#every new/change model requires new migration file\n",
    "\n",
    "python manage.py makemigrations profiles_api\n",
    "python manage.py migrate\n",
    "\n",
    "#push changes to github"
   ]
  },
  {
   "cell_type": "markdown",
   "metadata": {},
   "source": [
    "# Section 7: Setup Django Admin"
   ]
  },
  {
   "cell_type": "markdown",
   "metadata": {},
   "source": [
    "### 25. Creating a superuser"
   ]
  },
  {
   "cell_type": "code",
   "execution_count": null,
   "metadata": {},
   "outputs": [],
   "source": [
    "#create super user\n",
    "python manage.py createsuperuser"
   ]
  },
  {
   "cell_type": "markdown",
   "metadata": {},
   "source": [
    "### 26. Enable Django Admin"
   ]
  },
  {
   "cell_type": "code",
   "execution_count": null,
   "metadata": {},
   "outputs": [],
   "source": [
    "#admin.py\n",
    "from django.contrib import admin\n",
    "from profiles_api import models\n",
    "\n",
    "admin.site.register(models.UserProfile)"
   ]
  },
  {
   "cell_type": "markdown",
   "metadata": {},
   "source": [
    "### 27. Test Django Admin"
   ]
  },
  {
   "cell_type": "code",
   "execution_count": null,
   "metadata": {},
   "outputs": [],
   "source": [
    "#in web browser\n",
    "127.0.0.1:8000/admin\n",
    "\n",
    "#push changes to github"
   ]
  },
  {
   "cell_type": "markdown",
   "metadata": {},
   "source": [
    "# Section 8: Introduction to API Views"
   ]
  },
  {
   "cell_type": "markdown",
   "metadata": {},
   "source": [
    "### 28. What is an APIView"
   ]
  },
  {
   "cell_type": "markdown",
   "metadata": {},
   "source": [
    "Django REST Framework Views\n",
    "https://www.django-rest-framework.org/api-guide/views/\n",
    "1. APIView  \n",
    "    most basic type of view  \n",
    "    enables us to describe logic to make API endpoint  \n",
    "    \n",
    "    Uses standard HTTP Methods for functions  \n",
    "    GET -return one ore more items  \n",
    "    POST -create an item  \n",
    "    PUT -update an item  \n",
    "    PATCH -partially update an item  \n",
    "    DELETE -delete an item  \n",
    "    \n",
    "    Perfect for implementing complex logic\n",
    "    Calling other APIs\n",
    "    Working with local files\n",
    "2. ViewSet"
   ]
  },
  {
   "cell_type": "markdown",
   "metadata": {},
   "source": [
    "### 29. Create first APIView"
   ]
  },
  {
   "cell_type": "code",
   "execution_count": null,
   "metadata": {},
   "outputs": [],
   "source": [
    "#views.py\n",
    "from rest_framework.views import APIView\n",
    "from rest_framework.response import Response\n",
    "\n",
    "\n",
    "class HelloApiView(APIView):\n",
    "    \"\"\"Test API View\"\"\"\n",
    "\n",
    "    def get(self, request, format=None):\n",
    "        \"\"\"Returns a list of APIView features\"\"\"\n",
    "\n",
    "        an_apiview = [\n",
    "            'Uses HTTP methods as functions (get, post, patch, put, delete)',\n",
    "            'Is similar to a traditional Django View',\n",
    "            'Gives you the most control over your logic',\n",
    "            'Is mapped manually to URLs',\n",
    "        ]\n",
    "\n",
    "        return Response({'message': 'Hello!', 'an_apiview': an_apiview})"
   ]
  },
  {
   "cell_type": "markdown",
   "metadata": {},
   "source": [
    "### 30. Configure view URL"
   ]
  },
  {
   "cell_type": "code",
   "execution_count": null,
   "metadata": {},
   "outputs": [],
   "source": [
    "#profiles-project --> urls.py\n",
    "from django.urls import path, include\n",
    "\n",
    "...\n",
    "\n",
    "urlpatterns = [\n",
    "    path('admin/', admin.site.urls),\n",
    "    path('api/', include('profiles_api.urls'))\n",
    "]\n",
    "\n",
    "#profiles-api --> urls.py\n",
    "from django.urls import path\n",
    "\n",
    "from profiles_api import views\n",
    "\n",
    "\n",
    "urlpatterns = [\n",
    "    path('hello-view/', views.HelloApiView.as_view()),\n",
    "]\n"
   ]
  },
  {
   "cell_type": "markdown",
   "metadata": {},
   "source": [
    "URL Dispatcher : https://docs.djangoproject.com/en/1.11/topics/http/urls/  \n",
    "Path function official docs: https://docs.djangoproject.com/en/2.2/ref/urls/#django.urls.path  \n",
    "Include urls docs:  https://docs.djangoproject.com/en/2.2/ref/urls/#django.urls.include  "
   ]
  },
  {
   "cell_type": "markdown",
   "metadata": {},
   "source": [
    "### 31. Testing out API View"
   ]
  },
  {
   "cell_type": "code",
   "execution_count": null,
   "metadata": {},
   "outputs": [],
   "source": [
    "127.0.0.1:8000/api/hello_view/\n",
    "\n",
    "#commite changes to github"
   ]
  },
  {
   "cell_type": "markdown",
   "metadata": {},
   "source": [
    "### 32. Create a Serializer"
   ]
  },
  {
   "cell_type": "code",
   "execution_count": null,
   "metadata": {},
   "outputs": [],
   "source": [
    "#A serializer is a feature that from the django REST framework that allows us to \n",
    "https://www.django-rest-framework.org/api-guide/serializers/\n",
    "#change data inputs into python objects\n",
    "\n",
    "#profiles_api --> serializers.py\n",
    "from rest_framework import serializers\n",
    "\n",
    "\n",
    "class HelloSerializer(serializers.Serializer):\n",
    "    \"\"\"Serializes a name field for testing out APIView\"\"\"\n",
    "    name = serializers.CharField(max_length=10)"
   ]
  },
  {
   "cell_type": "markdown",
   "metadata": {},
   "source": [
    "### 33. Add POST method to APIView"
   ]
  },
  {
   "cell_type": "code",
   "execution_count": null,
   "metadata": {},
   "outputs": [],
   "source": [
    "#Add to views.py\n",
    "\n",
    "from profiles_api import serializers\n",
    "\n",
    "def post(self, request):\n",
    "        \"\"\"Create a hello message with our name\"\"\"\n",
    "        serializer = self.serializer_class(data=request.data)\n",
    "\n",
    "        if serializer.is_valid():\n",
    "            name = serializer.validated_data.get('name')\n",
    "            message = f'Hello {name}!'\n",
    "            return Response({'message': message})\n",
    "        else:\n",
    "            return Response(\n",
    "                serializer.errors,\n",
    "                status=status.HTTP_400_BAD_REQUEST\n",
    "\n",
    "#status-codes\n",
    "https://www.django-rest-framework.org/api-guide/status-codes/"
   ]
  },
  {
   "cell_type": "markdown",
   "metadata": {},
   "source": [
    "### 34. Test POST Function"
   ]
  },
  {
   "cell_type": "code",
   "execution_count": null,
   "metadata": {},
   "outputs": [],
   "source": [
    "127.0.0.1:8000/api/hello_view/"
   ]
  },
  {
   "cell_type": "markdown",
   "metadata": {},
   "source": [
    "### 35. Add PUT, PATCH and DELETE methods"
   ]
  },
  {
   "cell_type": "code",
   "execution_count": null,
   "metadata": {},
   "outputs": [],
   "source": [
    "# Add to views.py\n",
    "\n",
    "def put(self, request, pk=None):\n",
    "    \"\"\"Handle updating an object\"\"\"\n",
    "\n",
    "    return Response({'method': 'PUT'})\n",
    "\n",
    "def patch(self, request, pk=None):\n",
    "    \"\"\"Handle partial update of object\"\"\"\n",
    "\n",
    "    return Response({'method': 'PATCH'})\n",
    "\n",
    "def delete(self, request, pk=None):\n",
    "    \"\"\"Delete an object\"\"\"\n",
    "\n",
    "    return Response({'method': 'DELETE'})"
   ]
  },
  {
   "cell_type": "markdown",
   "metadata": {},
   "source": [
    "### 36. Test the PUT, PATCH and DELETE methods"
   ]
  },
  {
   "cell_type": "code",
   "execution_count": null,
   "metadata": {},
   "outputs": [],
   "source": [
    "127.0.0.1:8000/api/hello_view/\n",
    "    \n",
    "#commit changes to github"
   ]
  },
  {
   "cell_type": "markdown",
   "metadata": {},
   "source": [
    "# Section 9: Introduction to Viewsets"
   ]
  },
  {
   "cell_type": "markdown",
   "metadata": {},
   "source": [
    "### 37. What is a Viewset?"
   ]
  },
  {
   "cell_type": "markdown",
   "metadata": {},
   "source": [
    "Viewsets use model operations for functions  \n",
    "Takes care of a lot of typical logic  \n",
    "Perfect for standard database operations  \n",
    "Fastest way to make a database interface  \n",
    "Good for:  \n",
    "Simple CRUD interfaces for db  \n",
    "quick and simple API  \n",
    "little to no customization on logic  \n",
    "working with standard data structures  \n",
    "\n"
   ]
  },
  {
   "cell_type": "markdown",
   "metadata": {},
   "source": [
    "### 38. Create a simple Viewset"
   ]
  },
  {
   "cell_type": "code",
   "execution_count": null,
   "metadata": {},
   "outputs": [],
   "source": [
    "#add to views.py\n",
    "from rest_framework import viewsets\n",
    "...\n",
    "\n",
    "class HelloViewSet(viewsets.ViewSet):\n",
    "    \"\"\"Test API ViewSet\"\"\"\n",
    "\n",
    "    def list(self, request):\n",
    "        \"\"\"Return a hello message.\"\"\"\n",
    "\n",
    "        a_viewset = [\n",
    "            'Uses actions (list, create, retrieve, update, partial_update)',\n",
    "            'Automatically maps to URLS using Routers',\n",
    "            'Provides more functionality with less code',\n",
    "        ]\n",
    "\n",
    "        return Response({'message': 'Hello!', 'a_viewset': a_viewset})"
   ]
  },
  {
   "cell_type": "markdown",
   "metadata": {},
   "source": [
    "### 39. Add URL Router"
   ]
  },
  {
   "cell_type": "code",
   "execution_count": null,
   "metadata": {},
   "outputs": [],
   "source": [
    "#register viewset with a default router into \n",
    "#add to views.py\n",
    "\n",
    "...\n",
    "from django.urls import path, include\n",
    "\n",
    "from rest_framework.routers import DefaultRouter\n",
    "\n",
    "\n",
    "router = DefaultRouter()\n",
    "router.register('hello-viewset', views.HelloViewSet, base_name='hello-viewset')\n",
    "\n",
    "urlpatterns = [\n",
    "    path('hello-view/', views.HelloApiView.as_view()),\n",
    "    path('', include(router.urls)),\n",
    "]"
   ]
  },
  {
   "cell_type": "markdown",
   "metadata": {},
   "source": [
    "### 40. Testing our Viewset"
   ]
  },
  {
   "cell_type": "code",
   "execution_count": null,
   "metadata": {},
   "outputs": [],
   "source": [
    "http://127.0.0.1:8000/api/\n",
    "#Router creates a page with all urls in router\n"
   ]
  },
  {
   "cell_type": "markdown",
   "metadata": {},
   "source": [
    "### 41. Add create, retrieve, update, partial_update and destroy functions"
   ]
  },
  {
   "cell_type": "code",
   "execution_count": null,
   "metadata": {},
   "outputs": [],
   "source": [
    "class HelloViewSet(viewsets.ViewSet):\n",
    "    \"\"\"Test API ViewSet\"\"\"\n",
    "    serializer_class = serializers.HelloSerializer\n",
    "\n",
    "    def list(self, request):\n",
    "        \"\"\"Return a hello message.\"\"\"\n",
    "        ...\n",
    "\n",
    "    def create(self, request):\n",
    "        \"\"\"Create a new hello message.\"\"\"\n",
    "        serializer = self.serializer_class(data=request.data)\n",
    "\n",
    "        if serializer.is_valid():\n",
    "            name = serializer.validated_data.get('name')\n",
    "            message = f'Hello {name}!'\n",
    "            return Response({'message': message})\n",
    "        else:\n",
    "            return Response(\n",
    "                serializer.errors,\n",
    "                status=status.HTTP_400_BAD_REQUEST\n",
    "            )\n",
    "\n",
    "    def retrieve(self, request, pk=None):\n",
    "        \"\"\"Handle getting an object by its ID\"\"\"\n",
    "\n",
    "        return Response({'http_method': 'GET'})\n",
    "\n",
    "    def update(self, request, pk=None):\n",
    "        \"\"\"Handle updating an object\"\"\"\n",
    "\n",
    "        return Response({'http_method': 'PUT'})\n",
    "\n",
    "    def partial_update(self, request, pk=None):\n",
    "        \"\"\"Handle updating part of an object\"\"\"\n",
    "\n",
    "        return Response({'http_method': 'PATCH'})\n",
    "\n",
    "    def destroy(self, request, pk=None):\n",
    "        \"\"\"Handle removing an object\"\"\"\n",
    "\n",
    "        return Response({'http_method': 'DELETE'})\n",
    "\n",
    " "
   ]
  },
  {
   "cell_type": "markdown",
   "metadata": {},
   "source": [
    "### 42. Test Viewset"
   ]
  },
  {
   "cell_type": "markdown",
   "metadata": {},
   "source": [
    "# Section 10: Create Profiles API"
   ]
  },
  {
   "cell_type": "markdown",
   "metadata": {},
   "source": [
    "### 43. Plan our Profiles API"
   ]
  },
  {
   "cell_type": "markdown",
   "metadata": {},
   "source": [
    "### 44. Create user profile serializer"
   ]
  },
  {
   "cell_type": "markdown",
   "metadata": {},
   "source": [
    "### 45. Create profile ViewSet"
   ]
  },
  {
   "cell_type": "markdown",
   "metadata": {},
   "source": [
    "### 46. Register profile Viewset with the URL router"
   ]
  },
  {
   "cell_type": "markdown",
   "metadata": {},
   "source": [
    "### 47. Test creating a profile"
   ]
  },
  {
   "cell_type": "markdown",
   "metadata": {},
   "source": [
    "### 48. Create permission class"
   ]
  },
  {
   "cell_type": "markdown",
   "metadata": {},
   "source": [
    "### 49. Add authentication and permissions to ViewSet"
   ]
  },
  {
   "cell_type": "markdown",
   "metadata": {},
   "source": [
    "### 50. Test new permissions"
   ]
  },
  {
   "cell_type": "markdown",
   "metadata": {},
   "source": [
    "### 51. Add search profiles feature"
   ]
  },
  {
   "cell_type": "markdown",
   "metadata": {},
   "source": [
    "### 52. Test searching profiles"
   ]
  },
  {
   "cell_type": "markdown",
   "metadata": {},
   "source": [
    "# Section 11: Create login API"
   ]
  },
  {
   "cell_type": "markdown",
   "metadata": {},
   "source": [
    "### 53. Create login API viewset"
   ]
  },
  {
   "cell_type": "markdown",
   "metadata": {},
   "source": [
    "### 54. Test login API"
   ]
  },
  {
   "cell_type": "markdown",
   "metadata": {},
   "source": [
    "### 55. Set token header using ModHeader extention"
   ]
  },
  {
   "cell_type": "markdown",
   "metadata": {},
   "source": [
    "# Section 11: Create profile feed API"
   ]
  },
  {
   "cell_type": "markdown",
   "metadata": {},
   "source": [
    "### 56. Plan profile feed API"
   ]
  },
  {
   "cell_type": "markdown",
   "metadata": {},
   "source": [
    "### 57. Add new model Item"
   ]
  },
  {
   "cell_type": "markdown",
   "metadata": {},
   "source": [
    "### 58. Create and run model migration"
   ]
  },
  {
   "cell_type": "markdown",
   "metadata": {},
   "source": [
    "### 59. Add profile feed model to admin"
   ]
  },
  {
   "cell_type": "markdown",
   "metadata": {},
   "source": [
    "### 60. Create profile feed item serializer"
   ]
  },
  {
   "cell_type": "markdown",
   "metadata": {},
   "source": [
    "### 61. Create ViewSet for our profile feed item"
   ]
  },
  {
   "cell_type": "markdown",
   "metadata": {},
   "source": [
    "### 62. Test Feed API"
   ]
  },
  {
   "cell_type": "markdown",
   "metadata": {},
   "source": [
    "### 63. Add permissions for feed API"
   ]
  },
  {
   "cell_type": "markdown",
   "metadata": {},
   "source": [
    "### 64. Test feed API permissions"
   ]
  },
  {
   "cell_type": "markdown",
   "metadata": {},
   "source": [
    "### 65. Restrict viewing status updates to logged in users only"
   ]
  },
  {
   "cell_type": "markdown",
   "metadata": {},
   "source": [
    "### 66. Test new private feed"
   ]
  },
  {
   "cell_type": "markdown",
   "metadata": {},
   "source": [
    "# Section 13: Deploying our API to a server on AWS"
   ]
  },
  {
   "cell_type": "markdown",
   "metadata": {},
   "source": [
    "### 67. Introduction to deploying our app to AWS"
   ]
  },
  {
   "cell_type": "markdown",
   "metadata": {},
   "source": [
    "### 68. Add key pair to AWS"
   ]
  },
  {
   "cell_type": "markdown",
   "metadata": {},
   "source": [
    "### 69. Create EC2 server instance"
   ]
  },
  {
   "cell_type": "markdown",
   "metadata": {},
   "source": [
    "### 70. Add deployment script and configs to our project"
   ]
  },
  {
   "cell_type": "markdown",
   "metadata": {},
   "source": [
    "### 71. Deploy to server"
   ]
  },
  {
   "cell_type": "markdown",
   "metadata": {},
   "source": [
    "### 72. Update allowed hosts and deploy changes"
   ]
  },
  {
   "cell_type": "markdown",
   "metadata": {},
   "source": [
    "# Section 14: Summary"
   ]
  },
  {
   "cell_type": "markdown",
   "metadata": {},
   "source": [
    "### 73. Course outro"
   ]
  },
  {
   "cell_type": "code",
   "execution_count": null,
   "metadata": {},
   "outputs": [],
   "source": []
  },
  {
   "cell_type": "code",
   "execution_count": null,
   "metadata": {},
   "outputs": [],
   "source": []
  },
  {
   "cell_type": "code",
   "execution_count": null,
   "metadata": {},
   "outputs": [],
   "source": []
  },
  {
   "cell_type": "code",
   "execution_count": null,
   "metadata": {},
   "outputs": [],
   "source": []
  }
 ],
 "metadata": {
  "kernelspec": {
   "display_name": "Python 3",
   "language": "python",
   "name": "python3"
  },
  "language_info": {
   "codemirror_mode": {
    "name": "ipython",
    "version": 3
   },
   "file_extension": ".py",
   "mimetype": "text/x-python",
   "name": "python",
   "nbconvert_exporter": "python",
   "pygments_lexer": "ipython3",
   "version": "3.6.9"
  },
  "varInspector": {
   "cols": {
    "lenName": 16,
    "lenType": 16,
    "lenVar": 40
   },
   "kernels_config": {
    "python": {
     "delete_cmd_postfix": "",
     "delete_cmd_prefix": "del ",
     "library": "var_list.py",
     "varRefreshCmd": "print(var_dic_list())"
    },
    "r": {
     "delete_cmd_postfix": ") ",
     "delete_cmd_prefix": "rm(",
     "library": "var_list.r",
     "varRefreshCmd": "cat(var_dic_list()) "
    }
   },
   "types_to_exclude": [
    "module",
    "function",
    "builtin_function_or_method",
    "instance",
    "_Feature"
   ],
   "window_display": false
  }
 },
 "nbformat": 4,
 "nbformat_minor": 2
}
